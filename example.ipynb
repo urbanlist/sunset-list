{
 "cells": [
  {
   "cell_type": "code",
   "execution_count": 2,
   "metadata": {},
   "outputs": [],
   "source": [
    "import requests\n",
    "import json"
   ]
  },
  {
   "cell_type": "code",
   "execution_count": 3,
   "metadata": {},
   "outputs": [],
   "source": [
    "with open('api_key.json', 'r') as f:\n",
    "    app_key = json.loads(f.read())"
   ]
  },
  {
   "cell_type": "code",
   "execution_count": null,
   "metadata": {},
   "outputs": [],
   "source": []
  },
  {
   "cell_type": "code",
   "execution_count": 4,
   "metadata": {},
   "outputs": [],
   "source": [
    "# 코드 값에 따라 error 처리하여 재시도 해야함\n",
    "# https://developers.sktelecom.com/content/sktApi/view/?svcId=10113"
   ]
  },
  {
   "cell_type": "code",
   "execution_count": 5,
   "metadata": {},
   "outputs": [],
   "source": [
    "sk_access_key = app_key['sk_api_key']\n",
    "gis_posion = (127.1073343, 37.2763362)\n",
    "result = requests.get('https://api2.sktelecom.com/weather/current/minutely?lon={lon}&lat={lat}&appKey={key}'.format(lon=gis_posion[0],lat=gis_posion[1],key=sk_access_key))"
   ]
  },
  {
   "cell_type": "code",
   "execution_count": 6,
   "metadata": {},
   "outputs": [],
   "source": [
    "data = result.json()"
   ]
  },
  {
   "cell_type": "code",
   "execution_count": 7,
   "metadata": {},
   "outputs": [
    {
     "name": "stdout",
     "output_type": "stream",
     "text": [
      "연결 성공\n"
     ]
    }
   ],
   "source": [
    "if data['result']['code'] == 9200:\n",
    "    print('연결 성공')"
   ]
  },
  {
   "cell_type": "code",
   "execution_count": 8,
   "metadata": {},
   "outputs": [],
   "source": [
    "data = data['weather']['minutely'][0]"
   ]
  },
  {
   "cell_type": "code",
   "execution_count": 9,
   "metadata": {},
   "outputs": [],
   "source": [
    "# 하늘상태\n",
    "sky_status = data['sky']['code']"
   ]
  },
  {
   "cell_type": "code",
   "execution_count": 10,
   "metadata": {},
   "outputs": [],
   "source": [
    "# 기온\n",
    "temperature = data['temperature']['tc']"
   ]
  },
  {
   "cell_type": "code",
   "execution_count": 11,
   "metadata": {},
   "outputs": [],
   "source": [
    "# 강수 타입\n",
    "def get_precipitation_type_name(data):\n",
    "    type_num = str(data['precipitation']['type'])\n",
    "    if type_num == '0':\n",
    "        return 'none'\n",
    "    elif type_num == '1':\n",
    "        return 'rain'\n",
    "    elif type_num == '2':\n",
    "        return 'snow_rain'\n",
    "    elif type_num == '3':\n",
    "        return 'snow'\n",
    "    return None\n",
    "\n",
    "precipitation_type = get_precipitation_type_name(data)"
   ]
  },
  {
   "cell_type": "code",
   "execution_count": 12,
   "metadata": {},
   "outputs": [],
   "source": [
    "# 풍속 (m/s)\n",
    "wind_speed = data['wind']['wspd']"
   ]
  },
  {
   "cell_type": "code",
   "execution_count": null,
   "metadata": {},
   "outputs": [],
   "source": []
  },
  {
   "cell_type": "code",
   "execution_count": 13,
   "metadata": {},
   "outputs": [
    {
     "data": {
      "text/plain": [
       "{'humidity': '',\n",
       " 'lightning': '0',\n",
       " 'precipitation': {'sinceOntime': '0.00', 'type': '0'},\n",
       " 'pressure': {'seaLevel': '', 'surface': ''},\n",
       " 'rain': {'last10min': '0.00',\n",
       "  'last12hour': '0.00',\n",
       "  'last15min': '0.00',\n",
       "  'last1hour': '0.00',\n",
       "  'last24hour': '0.00',\n",
       "  'last30min': '0.00',\n",
       "  'last6hour': '0.00',\n",
       "  'sinceMidnight': '0.00',\n",
       "  'sinceOntime': '0.00'},\n",
       " 'sky': {'code': 'SKY_A01', 'name': '맑음'},\n",
       " 'station': {'id': '371',\n",
       "  'latitude': '37.2772',\n",
       "  'longitude': '127.1164',\n",
       "  'name': '기흥구',\n",
       "  'type': 'KMA'},\n",
       " 'temperature': {'tc': '8.80', 'tmax': '10.00', 'tmin': '2.00'},\n",
       " 'timeObservation': '2018-03-11 11:49:00',\n",
       " 'wind': {'wdir': '180.20', 'wspd': '3.40'}}"
      ]
     },
     "execution_count": 13,
     "metadata": {},
     "output_type": "execute_result"
    }
   ],
   "source": [
    "data"
   ]
  },
  {
   "cell_type": "code",
   "execution_count": null,
   "metadata": {
    "collapsed": true
   },
   "outputs": [],
   "source": []
  }
 ],
 "metadata": {
  "kernelspec": {
   "display_name": "Python 3",
   "language": "python",
   "name": "python3"
  },
  "language_info": {
   "codemirror_mode": {
    "name": "ipython",
    "version": 3
   },
   "file_extension": ".py",
   "mimetype": "text/x-python",
   "name": "python",
   "nbconvert_exporter": "python",
   "pygments_lexer": "ipython3",
   "version": "3.5.3"
  }
 },
 "nbformat": 4,
 "nbformat_minor": 1
}
