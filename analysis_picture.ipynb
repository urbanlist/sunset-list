{
 "cells": [
  {
   "cell_type": "code",
   "execution_count": 1,
   "metadata": {},
   "outputs": [],
   "source": [
    "from azure.cosmosdb.table.tableservice import TableService\n",
    "from azure.storage.blob import BlockBlobService\n",
    "from azure.cosmosdb.table.models import Entity\n",
    "from azure.storage.file import ContentSettings\n",
    "import sys\n",
    "from time import time\n",
    "import json\n",
    "from PIL import Image\n",
    "import requests\n",
    "import numpy as np\n",
    "import pandas as pd"
   ]
  },
  {
   "cell_type": "code",
   "execution_count": 2,
   "metadata": {},
   "outputs": [],
   "source": [
    "with open('api_key.json', 'r') as f:\n",
    "    app_key = json.loads(f.read())\n",
    "table_service = TableService(connection_string=app_key['azure_storage_connection'])"
   ]
  },
  {
   "cell_type": "code",
   "execution_count": 8,
   "metadata": {},
   "outputs": [],
   "source": [
    "entities = table_service.query_entities('nuknuk', filter=\"PartitionKey eq 'nyuknyuk'\")"
   ]
  },
  {
   "cell_type": "code",
   "execution_count": 15,
   "metadata": {},
   "outputs": [],
   "source": [
    "entity = entities.items[200]"
   ]
  },
  {
   "cell_type": "code",
   "execution_count": 16,
   "metadata": {},
   "outputs": [
    {
     "data": {
      "text/plain": [
       "{'FilePath': 'https://urbanlist.blob.core.windows.net/nuknuk/616955519.bmp',\n",
       " 'PartitionKey': 'nyuknyuk',\n",
       " 'RowKey': '616955519',\n",
       " 'SkyStatus': 'none',\n",
       " 'Timestamp': datetime.datetime(2018, 7, 2, 10, 42, 7, 957883, tzinfo=tzlocal()),\n",
       " 'etag': 'W/\"datetime\\'2018-07-02T10%3A42%3A07.9578837Z\\'\"'}"
      ]
     },
     "execution_count": 16,
     "metadata": {},
     "output_type": "execute_result"
    }
   ],
   "source": [
    "entity"
   ]
  },
  {
   "cell_type": "code",
   "execution_count": 17,
   "metadata": {},
   "outputs": [],
   "source": [
    "url = entity.FilePath\n",
    "image = Image.open(requests.get(url, stream=True).raw)"
   ]
  },
  {
   "cell_type": "code",
   "execution_count": 18,
   "metadata": {},
   "outputs": [
    {
     "data": {
      "image/png": "[encoded data removed]",
      "text/plain": [
       "<PIL.BmpImagePlugin.BmpImageFile image mode=RGB size=90x45 at 0x68DE7370>"
      ]
     },
     "execution_count": 18,
     "metadata": {},
     "output_type": "execute_result"
    }
   ],
   "source": [
    "image"
   ]
  },
  {
   "cell_type": "code",
   "execution_count": 19,
   "metadata": {},
   "outputs": [],
   "source": [
    "im_data = np.asarray(image)\n",
    "# crop_image = im_data[:45]\n",
    "# im = Image.fromarray(crop_image)"
   ]
  },
  {
   "cell_type": "code",
   "execution_count": 20,
   "metadata": {},
   "outputs": [],
   "source": [
    "im = image"
   ]
  },
  {
   "cell_type": "code",
   "execution_count": 21,
   "metadata": {},
   "outputs": [],
   "source": [
    "# 데이터를 하나의 배열로 정리\n",
    "image_dataset = []\n",
    "for row in im_data:\n",
    "    for item in row:\n",
    "        image_dataset.append(item)\n",
    "image_dataset = np.array(image_dataset)"
   ]
  },
  {
   "cell_type": "code",
   "execution_count": 22,
   "metadata": {},
   "outputs": [],
   "source": [
    "df = pd.DataFrame(image_dataset, columns=['red','green','blue'])"
   ]
  },
  {
   "cell_type": "code",
   "execution_count": 25,
   "metadata": {},
   "outputs": [],
   "source": [
    "from sklearn.cluster import DBSCAN\n",
    "\n",
    "# create model and prediction\n",
    "# model = DBSCAN(eps=1, min_samples=5)\n",
    "model = DBSCAN(eps=3, min_samples=5)\n",
    "predict = pd.DataFrame(model.fit_predict(df))\n",
    "predict.columns = ['predict']\n",
    "\n",
    "# concatenate labels to df as a new column\n",
    "r = pd.concat([df,predict],axis=1)"
   ]
  },
  {
   "cell_type": "code",
   "execution_count": 26,
   "metadata": {},
   "outputs": [
    {
     "data": {
      "text/plain": [
       "5"
      ]
     },
     "execution_count": 26,
     "metadata": {},
     "output_type": "execute_result"
    }
   ],
   "source": [
    "len(set(r['predict']))"
   ]
  },
  {
   "cell_type": "code",
   "execution_count": 28,
   "metadata": {},
   "outputs": [],
   "source": [
    "data = r"
   ]
  },
  {
   "cell_type": "code",
   "execution_count": null,
   "metadata": {},
   "outputs": [],
   "source": []
  },
  {
   "cell_type": "code",
   "execution_count": null,
   "metadata": {},
   "outputs": [],
   "source": []
  },
  {
   "cell_type": "code",
   "execution_count": null,
   "metadata": {},
   "outputs": [],
   "source": []
  },
  {
   "cell_type": "code",
   "execution_count": null,
   "metadata": {},
   "outputs": [],
   "source": []
  }
 ],
 "metadata": {
  "kernelspec": {
   "display_name": "Python 3",
   "language": "python",
   "name": "python3"
  },
  "language_info": {
   "codemirror_mode": {
    "name": "ipython",
    "version": 3
   },
   "file_extension": ".py",
   "mimetype": "text/x-python",
   "name": "python",
   "nbconvert_exporter": "python",
   "pygments_lexer": "ipython3",
   "version": "3.6.1"
  }
 },
 "nbformat": 4,
 "nbformat_minor": 2
}
